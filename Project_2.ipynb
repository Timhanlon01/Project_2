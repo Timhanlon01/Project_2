{
 "cells": [
  {
   "cell_type": "code",
   "execution_count": 21,
   "id": "5de24220-f09c-4845-ad22-b8e160b92835",
   "metadata": {},
   "outputs": [
    {
     "name": "stdout",
     "output_type": "stream",
     "text": [
      "Columns in batting_df:\n",
      "Index(['playerID', 'yearID', 'stint', 'teamID', 'lgID', 'G', 'AB', 'R', 'H',\n",
      "       '2B', '3B', 'HR', 'RBI', 'SB', 'CS', 'BB', 'SO', 'IBB', 'HBP', 'SH',\n",
      "       'SF', 'GIDP'],\n",
      "      dtype='object')\n",
      "\n",
      "Columns in pitching_df:\n",
      "Index(['playerID', 'yearID', 'stint', 'teamID', 'lgID', 'W', 'L', 'G', 'GS',\n",
      "       'CG', 'SHO', 'SV', 'IPouts', 'H', 'ER', 'HR', 'BB', 'SO', 'BAOpp',\n",
      "       'ERA', 'IBB', 'WP', 'HBP', 'BK', 'BFP', 'GF', 'R', 'SH', 'SF', 'GIDP'],\n",
      "      dtype='object')\n",
      "\n",
      "Columns in teams_df:\n",
      "Index(['yearID', 'lgID', 'teamID', 'franchID', 'divID', 'Rank', 'G', 'Ghome',\n",
      "       'W', 'L', 'DivWin', 'WCWin', 'LgWin', 'WSWin', 'R', 'AB', 'H', '2B',\n",
      "       '3B', 'HR', 'BB', 'SO', 'SB', 'CS', 'HBP', 'SF', 'RA', 'ER', 'ERA',\n",
      "       'CG', 'SHO', 'SV', 'IPouts', 'HA', 'HRA', 'BBA', 'SOA', 'E', 'DP', 'FP',\n",
      "       'name', 'park', 'attendance', 'BPF', 'PPF', 'teamIDBR',\n",
      "       'teamIDlahman45', 'teamIDretro'],\n",
      "      dtype='object')\n"
     ]
    }
   ],
   "source": [
    "import pandas as pd\n",
    "import matplotlib.pyplot as plt\n",
    "# File path\n",
    "batting_path = r\"C:\\Users\\timha\\Project_2\\Batting.csv\"\n",
    "pitching_path = r\"C:\\Users\\timha\\Project_2\\Pitching.csv\"\n",
    "teams_path = r\"C:\\Users\\timha\\Project_2\\Teams.csv\"\n",
    "batting_df = pd.read_csv(batting_path)\n",
    "pitching_df = pd.read_csv(pitching_path)\n",
    "teams_df = pd.read_csv(teams_path)\n",
    "\n",
    "# Column names of both DataFrames\n",
    "print(\"Columns in batting_df:\")\n",
    "print(batting_df.columns)\n",
    "print(\"\\nColumns in pitching_df:\")\n",
    "print(pitching_df.columns)\n",
    "print(\"\\nColumns in teams_df:\")\n",
    "print(teams_df.columns)\n",
    "\n",
    "\n",
    "\n"
   ]
  },
  {
   "cell_type": "code",
   "execution_count": null,
   "id": "958e7ff8-611a-4f21-afa7-391537a4c2b8",
   "metadata": {},
   "outputs": [],
   "source": []
  }
 ],
 "metadata": {
  "kernelspec": {
   "display_name": "Python 3 (ipykernel)",
   "language": "python",
   "name": "python3"
  },
  "language_info": {
   "codemirror_mode": {
    "name": "ipython",
    "version": 3
   },
   "file_extension": ".py",
   "mimetype": "text/x-python",
   "name": "python",
   "nbconvert_exporter": "python",
   "pygments_lexer": "ipython3",
   "version": "3.12.7"
  }
 },
 "nbformat": 4,
 "nbformat_minor": 5
}
